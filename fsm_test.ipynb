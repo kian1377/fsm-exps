{
 "cells": [
  {
   "cell_type": "code",
   "execution_count": 57,
   "metadata": {},
   "outputs": [],
   "source": [
    "import numpy as np\n",
    "import time\n",
    "import threading as th\n",
    "\n",
    "import magpyx\n",
    "from magpyx.utils import ImageStream\n",
    "\n",
    "import purepyindi\n",
    "from purepyindi import INDIClient\n",
    "client0 = purepyindi.INDIClient('localhost', 7624)\n",
    "client0.start()\n",
    "\n",
    "# from skimage.registration import phase_cross_correlation\n",
    "v_bias = np.array([[50,50,50]]).T\n"
   ]
  },
  {
   "cell_type": "code",
   "execution_count": null,
   "metadata": {},
   "outputs": [],
   "source": []
  },
  {
   "cell_type": "code",
   "execution_count": 58,
   "metadata": {},
   "outputs": [],
   "source": [
    "\n",
    "fsm = ImageStream('fsm')\n",
    "\n",
    "fsm.write(np.array([[0,0,0]]).transpose())"
   ]
  },
  {
   "cell_type": "code",
   "execution_count": 39,
   "metadata": {},
   "outputs": [],
   "source": [
    "# time.sleep(2)\n",
    "fsm.write(np.array([[0,0,0]]).T)"
   ]
  },
  {
   "cell_type": "code",
   "execution_count": 35,
   "metadata": {},
   "outputs": [],
   "source": [
    "class Process(th.Timer):  \n",
    "    def run(self):  \n",
    "        while not self.finished.wait(self.interval):  \n",
    "            self.function(*self.args, **self.kwargs)\n",
    "# process = Process(0.1, print, ['Repeating']) \n",
    "# process.start()\n",
    "# time.sleep(5)\n",
    "# process.cancel()"
   ]
  },
  {
   "cell_type": "code",
   "execution_count": 63,
   "metadata": {},
   "outputs": [
    {
     "name": "stdout",
     "output_type": "stream",
     "text": [
      "Modulating FSM ...\n",
      "FSM modulation stopped!\n"
     ]
    }
   ],
   "source": [
    "volts = np.array([[[50,50,50]], [[50,50,70]]])\n",
    "freq = 10\n",
    "try:\n",
    "    print('Modulating FSM ...')\n",
    "    i = 0\n",
    "    while True:\n",
    "        fsm.write(volts[i%2].T)\n",
    "        i += 1 \n",
    "        time.sleep(1/freq)\n",
    "except KeyboardInterrupt:\n",
    "    print('FSM modulation stopped!')\n",
    "    fsm.write(v_bias)\n"
   ]
  }
 ],
 "metadata": {
  "kernelspec": {
   "display_name": "base",
   "language": "python",
   "name": "python3"
  },
  "language_info": {
   "codemirror_mode": {
    "name": "ipython",
    "version": 3
   },
   "file_extension": ".py",
   "mimetype": "text/x-python",
   "name": "python",
   "nbconvert_exporter": "python",
   "pygments_lexer": "ipython3",
   "version": "3.10.12"
  }
 },
 "nbformat": 4,
 "nbformat_minor": 2
}
