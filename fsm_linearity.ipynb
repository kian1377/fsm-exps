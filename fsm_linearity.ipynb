{
 "cells": [
  {
   "cell_type": "code",
   "execution_count": 1,
   "metadata": {},
   "outputs": [
    {
     "name": "stderr",
     "output_type": "stream",
     "text": [
      "ERROR:purepyindi:Connection refused: [Errno 111] Connection refused\n"
     ]
    },
    {
     "ename": "ConnectionRefusedError",
     "evalue": "[Errno 111] Connection refused",
     "output_type": "error",
     "traceback": [
      "\u001b[0;31m---------------------------------------------------------------------------\u001b[0m",
      "\u001b[0;31mConnectionRefusedError\u001b[0m                    Traceback (most recent call last)",
      "Cell \u001b[0;32mIn[1], line 11\u001b[0m\n\u001b[1;32m      9\u001b[0m \u001b[38;5;28;01mfrom\u001b[39;00m \u001b[38;5;21;01mpurepyindi\u001b[39;00m \u001b[38;5;28;01mimport\u001b[39;00m INDIClient\n\u001b[1;32m     10\u001b[0m client0 \u001b[38;5;241m=\u001b[39m purepyindi\u001b[38;5;241m.\u001b[39mINDIClient(\u001b[38;5;124m'\u001b[39m\u001b[38;5;124mlocalhost\u001b[39m\u001b[38;5;124m'\u001b[39m, \u001b[38;5;241m7624\u001b[39m)\n\u001b[0;32m---> 11\u001b[0m \u001b[43mclient0\u001b[49m\u001b[38;5;241;43m.\u001b[39;49m\u001b[43mstart\u001b[49m\u001b[43m(\u001b[49m\u001b[43m)\u001b[49m\n\u001b[1;32m     13\u001b[0m \u001b[38;5;66;03m# from skimage.registration import phase_cross_correlation\u001b[39;00m\n\u001b[1;32m     14\u001b[0m v_bias \u001b[38;5;241m=\u001b[39m np\u001b[38;5;241m.\u001b[39marray([[\u001b[38;5;241m50\u001b[39m,\u001b[38;5;241m50\u001b[39m,\u001b[38;5;241m50\u001b[39m]])\u001b[38;5;241m.\u001b[39mT\n",
      "File \u001b[0;32m/opt/MagAOX/source/purepyindi/purepyindi/client.py:121\u001b[0m, in \u001b[0;36mINDIClient.start\u001b[0;34m(self)\u001b[0m\n\u001b[1;32m    119\u001b[0m \u001b[38;5;28mself\u001b[39m\u001b[38;5;241m.\u001b[39m_socket \u001b[38;5;241m=\u001b[39m socket\u001b[38;5;241m.\u001b[39msocket(socket\u001b[38;5;241m.\u001b[39mAF_INET, socket\u001b[38;5;241m.\u001b[39mSOCK_STREAM)\n\u001b[1;32m    120\u001b[0m \u001b[38;5;28;01mtry\u001b[39;00m:\n\u001b[0;32m--> 121\u001b[0m     \u001b[38;5;28;43mself\u001b[39;49m\u001b[38;5;241;43m.\u001b[39;49m\u001b[43m_socket\u001b[49m\u001b[38;5;241;43m.\u001b[39;49m\u001b[43mconnect\u001b[49m\u001b[43m(\u001b[49m\u001b[43m(\u001b[49m\u001b[38;5;28;43mself\u001b[39;49m\u001b[38;5;241;43m.\u001b[39;49m\u001b[43mhost\u001b[49m\u001b[43m,\u001b[49m\u001b[43m \u001b[49m\u001b[38;5;28;43mself\u001b[39;49m\u001b[38;5;241;43m.\u001b[39;49m\u001b[43mport\u001b[49m\u001b[43m)\u001b[49m\u001b[43m)\u001b[49m\n\u001b[1;32m    122\u001b[0m \u001b[38;5;28;01mexcept\u001b[39;00m \u001b[38;5;167;01mConnectionRefusedError\u001b[39;00m \u001b[38;5;28;01mas\u001b[39;00m e:\n\u001b[1;32m    123\u001b[0m     \u001b[38;5;28mself\u001b[39m\u001b[38;5;241m.\u001b[39mstatus \u001b[38;5;241m=\u001b[39m ConnectionStatus\u001b[38;5;241m.\u001b[39mERROR\n",
      "\u001b[0;31mConnectionRefusedError\u001b[0m: [Errno 111] Connection refused"
     ]
    }
   ],
   "source": [
    "import numpy as np\n",
    "import time\n",
    "import threading as th\n",
    "\n",
    "import magpyx\n",
    "from magpyx.utils import ImageStream\n",
    "\n",
    "import purepyindi\n",
    "from purepyindi import INDIClient\n",
    "client0 = purepyindi.INDIClient('localhost', 7624)\n",
    "client0.start()\n",
    "\n",
    "# from skimage.registration import phase_cross_correlation\n",
    "v_bias = np.array([[50,50,50]]).T\n",
    "\n",
    "L = 12*u.mm # distance between FSM piezo actuators\n",
    "B = L * np.cos(30*u.degree) # baseline distance of three piezos\n",
    "\n",
    "max_stroke = 12*u.um\n",
    "max_voltage = 100\n",
    "D_per_V = max_stroke/max_voltage\n",
    "\n",
    "def set_tip_tilt(tip, tilt, dZ=0):\n",
    "    tip = tip.to_value(u.radian)\n",
    "    tilt = tilt.to_value(u.radian)\n",
    "\n",
    "    dA = get_A(tip, dZ)\n",
    "    dB = get_B(tip, tilt, dZ)\n",
    "    dC = get_C(tip, tilt, dZ)\n",
    "    print(f'Displacements: A = {dA:.2e}, {dB:.2e}, {dC:.2e}. ')\n",
    "\n",
    "    dvA = (dA/D_per_V).decompose().value\n",
    "    dvB = (dB/D_per_V).decompose().value\n",
    "    dvC = (dC/D_per_V).decompose().value\n",
    "    print(f'Delta Voltages: A = {dvA:.2f}, B = {dvB:.2f}, C = {dvC:.2f}. ')\n",
    "\n",
    "    # self.voltages = self.voltages + np.array([dvA, dvB, dvC])\n",
    "    \n",
    "    return dvA, dvB, dvC\n",
    "\n",
    "def get_A(alpha, Z):\n",
    "    return (Z + 2./3. * B * alpha).to(u.m)\n",
    "\n",
    "def get_B(alpha, beta, Z):\n",
    "    return (0.5 * L * beta + Z - 1./3. * B * alpha).to(u.m)\n",
    "\n",
    "def get_C(alpha, beta, Z):\n",
    "    return (Z - 1./3. * B * alpha - 1./2. * L * beta).to(u.m)\n"
   ]
  },
  {
   "cell_type": "code",
   "execution_count": null,
   "metadata": {},
   "outputs": [],
   "source": []
  },
  {
   "cell_type": "code",
   "execution_count": 58,
   "metadata": {},
   "outputs": [],
   "source": [
    "\n",
    "fsm = ImageStream('fsm')\n",
    "\n",
    "fsm.write(np.array([[0,0,0]]).transpose())"
   ]
  },
  {
   "cell_type": "code",
   "execution_count": 39,
   "metadata": {},
   "outputs": [],
   "source": [
    "# time.sleep(2)\n",
    "fsm.write(np.array([[0,0,0]]).T)"
   ]
  },
  {
   "cell_type": "code",
   "execution_count": 35,
   "metadata": {},
   "outputs": [],
   "source": [
    "class Process(th.Timer):  \n",
    "    def run(self):  \n",
    "        while not self.finished.wait(self.interval):  \n",
    "            self.function(*self.args, **self.kwargs)\n",
    "# process = Process(0.1, print, ['Repeating']) \n",
    "# process.start()\n",
    "# time.sleep(5)\n",
    "# process.cancel()"
   ]
  },
  {
   "cell_type": "code",
   "execution_count": 63,
   "metadata": {},
   "outputs": [
    {
     "name": "stdout",
     "output_type": "stream",
     "text": [
      "Modulating FSM ...\n",
      "FSM modulation stopped!\n"
     ]
    }
   ],
   "source": [
    "volts = np.array([[[50,50,50]], [[50,50,70]]])\n",
    "freq = 10\n",
    "try:\n",
    "    print('Modulating FSM ...')\n",
    "    i = 0\n",
    "    while True:\n",
    "        fsm.write(volts[i%2].T)\n",
    "        i += 1 \n",
    "        time.sleep(1/freq)\n",
    "except KeyboardInterrupt:\n",
    "    print('FSM modulation stopped!')\n",
    "    fsm.write(v_bias)\n"
   ]
  }
 ],
 "metadata": {
  "kernelspec": {
   "display_name": "base",
   "language": "python",
   "name": "python3"
  },
  "language_info": {
   "codemirror_mode": {
    "name": "ipython",
    "version": 3
   },
   "file_extension": ".py",
   "mimetype": "text/x-python",
   "name": "python",
   "nbconvert_exporter": "python",
   "pygments_lexer": "ipython3",
   "version": "3.10.12"
  }
 },
 "nbformat": 4,
 "nbformat_minor": 2
}
