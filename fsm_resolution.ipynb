{
 "cells": [
  {
   "cell_type": "code",
   "execution_count": 1,
   "metadata": {},
   "outputs": [
    {
     "name": "stdout",
     "output_type": "stream",
     "text": [
      "14.262991921341772 arcsec\n",
      "Displacements: A = 6.34e-06 m, 6.12e-06 m, 5.54e-06 m. \n",
      "Delta Voltages: A = 52.80, B = 51.02, C = 46.18. \n",
      "Displacements: A = 1.03e-05 m, 7.58e-06 m, 1.10e-07 m. \n",
      "Delta Voltages: A = 85.93, B = 63.15, C = 0.92. \n"
     ]
    },
    {
     "data": {
      "text/plain": [
       "(85.93084122084375, 63.1516006661739, 0.917558112982375)"
      ]
     },
     "execution_count": 1,
     "metadata": {},
     "output_type": "execute_result"
    }
   ],
   "source": [
    "import numpy as np\n",
    "import astropy.units as u\n",
    "\n",
    "total_pupil_diam = 2.43*u.m\n",
    "wavelength = 650*u.nm\n",
    "fsm_pupil_diam = 9.4*u.mm\n",
    "as_per_lamD = ((wavelength/fsm_pupil_diam)*u.radian).to(u.arcsec)\n",
    "print(as_per_lamD)\n",
    "\n",
    "# from skimage.registration import phase_cross_correlation\n",
    "v_bias = np.array([[50,50,50]]).T\n",
    "\n",
    "L = 12*u.mm # distance between FSM piezo actuators\n",
    "B = L * np.cos(30*u.degree) # baseline distance of three piezos\n",
    "max_stroke = 12*u.um\n",
    "max_voltage = 100\n",
    "D_per_V = max_stroke/max_voltage\n",
    "\n",
    "def get_A(alpha, Z):\n",
    "    return (Z + 2./3. * B * alpha).to(u.m)\n",
    "\n",
    "def get_B(alpha, beta, Z):\n",
    "    return (0.5 * L * beta + Z - 1./3. * B * alpha).to(u.m)\n",
    "\n",
    "def get_C(alpha, beta, Z):\n",
    "    return (Z - 1./3. * B * alpha - 1./2. * L * beta).to(u.m)\n",
    "\n",
    "def get_fsm_volts(tip, tilt, dZ=6*u.um):\n",
    "    tip = tip.to_value(u.radian)\n",
    "    tilt = tilt.to_value(u.radian)\n",
    "\n",
    "    dA = get_A(tip, dZ)\n",
    "    dB = get_B(tip, tilt, dZ)\n",
    "    dC = get_C(tip, tilt, dZ)\n",
    "    print(f'Displacements: A = {dA:.2e}, {dB:.2e}, {dC:.2e}. ')\n",
    "\n",
    "    dvA = (dA/D_per_V).decompose().value\n",
    "    dvB = (dB/D_per_V).decompose().value\n",
    "    dvC = (dC/D_per_V).decompose().value\n",
    "    print(f'Delta Voltages: A = {dvA:.2f}, B = {dvB:.2f}, C = {dvC:.2f}. ')\n",
    "\n",
    "    return dvA, dvB, dvC\n",
    "\n",
    "get_fsm_volts(10*u.arcsec, 10*u.arcsec)\n",
    "get_fsm_volts(9*as_per_lamD, 9*as_per_lamD)"
   ]
  },
  {
   "cell_type": "code",
   "execution_count": 2,
   "metadata": {},
   "outputs": [
    {
     "name": "stdout",
     "output_type": "stream",
     "text": [
      "4.0 nm\n",
      "16.0 nm\n",
      "351.0890319096121 mas 1.3581221810495285 mas\n",
      "10.313240312354818 mas\n"
     ]
    }
   ],
   "source": [
    "total_pupil_diam = 2.43*u.m\n",
    "wavelength = 650*u.nm\n",
    "fsm_pupil_diam = 9.4*u.mm\n",
    "as_per_lamD = ((wavelength/fsm_pupil_diam)*u.radian).to(u.arcsec)\n",
    "\n",
    "tt_at_fsm_pupil_rms = 4*u.nm\n",
    "print(tt_at_fsm_pupil_rms.to(u.nm))\n",
    "\n",
    "tt_pv_to_rms = 1/4\n",
    "tt_at_fsm_pupil_pv =  tt_at_fsm_pupil_rms / tt_pv_to_rms\n",
    "print(tt_at_fsm_pupil_pv.to(u.nm))\n",
    "\n",
    "tt_at_fsm_pupil = np.arctan(tt_at_fsm_pupil_pv.to_value(u.m) / fsm_pupil_diam.to_value(u.m)) * u.radian\n",
    "mag = (total_pupil_diam/fsm_pupil_diam).decompose()\n",
    "tt_at_m1_pupil = tt_at_fsm_pupil/mag\n",
    "print(tt_at_fsm_pupil.to(u.mas), tt_at_m1_pupil.to(u.mas))\n",
    "\n",
    "fsm_res = (0.05*u.microradian).to(u.mas)\n",
    "print(fsm_res)\n",
    "\n",
    "\n"
   ]
  },
  {
   "cell_type": "code",
   "execution_count": null,
   "metadata": {},
   "outputs": [],
   "source": []
  }
 ],
 "metadata": {
  "kernelspec": {
   "display_name": "base",
   "language": "python",
   "name": "python3"
  },
  "language_info": {
   "codemirror_mode": {
    "name": "ipython",
    "version": 3
   },
   "file_extension": ".py",
   "mimetype": "text/x-python",
   "name": "python",
   "nbconvert_exporter": "python",
   "pygments_lexer": "ipython3",
   "version": "3.10.12"
  }
 },
 "nbformat": 4,
 "nbformat_minor": 2
}
