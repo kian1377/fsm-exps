{
 "cells": [
  {
   "cell_type": "code",
   "execution_count": 3,
   "metadata": {},
   "outputs": [
    {
     "name": "stdout",
     "output_type": "stream",
     "text": [
      "10.880468529534333 arcsec\n",
      "0.13080568720379146\n"
     ]
    },
    {
     "name": "stderr",
     "output_type": "stream",
     "text": [
      "INFO:purepyindi2.transports:Connected to localhost:7624\n"
     ]
    }
   ],
   "source": [
    "import numpy as np\n",
    "import astropy.units as u\n",
    "import time\n",
    "from datetime import datetime\n",
    "today = int(datetime.today().strftime('%Y%m%d'))\n",
    "import poppy\n",
    "import skimage\n",
    "from skimage.registration import phase_cross_correlation\n",
    "import copy\n",
    "from importlib import reload\n",
    "\n",
    "import magpyx\n",
    "from magpyx.utils import ImageStream\n",
    "import purepyindi\n",
    "from purepyindi import INDIClient\n",
    "client0 = purepyindi.INDIClient('localhost', 7624)\n",
    "client0.start()\n",
    "\n",
    "import purepyindi2\n",
    "from purepyindi2 import IndiClient\n",
    "client = IndiClient()\n",
    "client.connect()\n",
    "client.get_properties()\n",
    "\n",
    "\n",
    "from math_module import xp, xcipy, np_array\n",
    "import utils\n",
    "import fsm_utils\n",
    "import cam_utils\n",
    "from imshows import imshow1, imshow2, imshow3\n",
    "from matplotlib.patches import Circle\n",
    "\n",
    "v_bias = np.array([[50,50,50]]).T\n",
    "\n",
    "wavelength = 633e-9\n",
    "fl = 500e-3\n",
    "fsm_pupil_diam = 12e-3\n",
    "as_per_lamD = (wavelength/fsm_pupil_diam*u.radian).to(u.arcsec)\n",
    "print(as_per_lamD)\n",
    "\n",
    "pxscl_lamD = 3.45e-6 / (fl * wavelength/fsm_pupil_diam)\n",
    "print(pxscl_lamD)\n"
   ]
  },
  {
   "cell_type": "code",
   "execution_count": 12,
   "metadata": {},
   "outputs": [],
   "source": [
    "fsm = ImageStream('fsm')\n",
    "fsm.write(v_bias)"
   ]
  },
  {
   "cell_type": "code",
   "execution_count": 18,
   "metadata": {},
   "outputs": [
    {
     "name": "stdout",
     "output_type": "stream",
     "text": [
      "Displacements: A = 5.00e-06 m, 5.16e-06 m, 4.84e-06 m. \n",
      "Delta Voltages: A = 50.00, B = 51.58, C = 48.42. \n",
      "Saved data to:  tt_mod.fits\n"
     ]
    }
   ],
   "source": [
    "v_tt = fsm_utils.get_fsm_volts(tip=0*as_per_lamD, tilt=0.5*as_per_lamD)\n",
    "volts = xp.array([v_bias, v_tt])\n",
    "utils.save_fits('tt_mod.fits', volts)"
   ]
  },
  {
   "cell_type": "code",
   "execution_count": 19,
   "metadata": {},
   "outputs": [
    {
     "data": {
      "text/plain": [
       "array([[[50.    ],\n",
       "        [50.    ],\n",
       "        [50.    ]],\n",
       "\n",
       "       [[50.    ],\n",
       "        [51.5825],\n",
       "        [48.4175]]])"
      ]
     },
     "execution_count": 19,
     "metadata": {},
     "output_type": "execute_result"
    }
   ],
   "source": [
    "volts"
   ]
  },
  {
   "cell_type": "code",
   "execution_count": 11,
   "metadata": {},
   "outputs": [],
   "source": [
    "def set_fsm_mod_amp(amp, client, delay=0.25):\n",
    "    client.wait_for_properties(['fsmModulator.amp'])\n",
    "    client['fsmModulator.amp.target'] = amp\n",
    "    time.sleep(delay)\n",
    "\n",
    "def set_fsm_mod_rate(freq, client, delay=0.25):\n",
    "    client.wait_for_properties(['fsmModulator.frequency'])\n",
    "    client['fsmModulator.frequency.target'] = freq\n",
    "    time.sleep(delay)\n",
    "\n",
    "def start_fsm_mod(client, delay=0.25):\n",
    "    client.wait_for_properties(['fsmModulator.trigger', 'fsmModulator.modulating'])\n",
    "    client['fsmModulator.trigger.toggle'] = purepyindi.SwitchState.OFF\n",
    "    time.sleep(delay)\n",
    "    client['fsmModulator.modulating.toggle'] = purepyindi.SwitchState.ON\n",
    "    time.sleep(delay)\n",
    "\n",
    "def stop_fsm_mod(client, delay=0.25):\n",
    "    client.wait_for_properties(['fsmModulator.trigger', 'fsmModulator.modulating', 'fsmModulator.zero'])\n",
    "    client['fsmModulator.modulating.toggle'] = purepyindi.SwitchState.OFF\n",
    "    time.sleep(delay)\n",
    "    client['fsmModulator.trigger.toggle'] = purepyindi.SwitchState.ON\n",
    "    time.sleep(delay)\n",
    "    client['fsmModulator.zero.request'] = purepyindi.SwitchState.ON"
   ]
  },
  {
   "cell_type": "code",
   "execution_count": null,
   "metadata": {},
   "outputs": [],
   "source": [
    "set_fsm_mod_amp(1, client0)\n",
    "set_fsm_mod_rate(2, client0)\n"
   ]
  },
  {
   "cell_type": "code",
   "execution_count": 20,
   "metadata": {},
   "outputs": [],
   "source": [
    "start_fsm_mod(client0)"
   ]
  },
  {
   "cell_type": "code",
   "execution_count": 21,
   "metadata": {},
   "outputs": [],
   "source": [
    "stop_fsm_mod(client0)"
   ]
  },
  {
   "cell_type": "code",
   "execution_count": 22,
   "metadata": {},
   "outputs": [],
   "source": [
    "fsm.write(v_bias)"
   ]
  },
  {
   "cell_type": "code",
   "execution_count": 28,
   "metadata": {},
   "outputs": [
    {
     "name": "stdout",
     "output_type": "stream",
     "text": [
      "Displacements: A = 5.00e-06 m, 5.32e-06 m, 4.68e-06 m. \n",
      "Delta Voltages: A = 50.00, B = 53.16, C = 46.84. \n",
      "Modulating FSM ...\n",
      "FSM modulation stopped!\n"
     ]
    }
   ],
   "source": [
    "v_tt = fsm_utils.get_fsm_volts(tip=0*as_per_lamD, tilt=1*as_per_lamD)\n",
    "volts = [v_bias, v_tt]\n",
    "freq = 3\n",
    "try:\n",
    "    print('Modulating FSM ...')\n",
    "    i = 0\n",
    "    while True:\n",
    "        fsm.write(volts[i%2])\n",
    "        i += 1 \n",
    "        time.sleep(1/freq/2)\n",
    "except KeyboardInterrupt:\n",
    "    print('FSM modulation stopped!')\n",
    "    fsm.write(v_bias)\n"
   ]
  },
  {
   "cell_type": "code",
   "execution_count": 43,
   "metadata": {},
   "outputs": [],
   "source": [
    "fsm.write(0*v_bias)"
   ]
  },
  {
   "cell_type": "code",
   "execution_count": null,
   "metadata": {},
   "outputs": [],
   "source": []
  },
  {
   "cell_type": "code",
   "execution_count": null,
   "metadata": {},
   "outputs": [],
   "source": []
  }
 ],
 "metadata": {
  "kernelspec": {
   "display_name": "km310gpu",
   "language": "python",
   "name": "python3"
  },
  "language_info": {
   "codemirror_mode": {
    "name": "ipython",
    "version": 3
   },
   "file_extension": ".py",
   "mimetype": "text/x-python",
   "name": "python",
   "nbconvert_exporter": "python",
   "pygments_lexer": "ipython3",
   "version": "3.10.14"
  }
 },
 "nbformat": 4,
 "nbformat_minor": 2
}
