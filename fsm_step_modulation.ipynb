{
 "cells": [
  {
   "cell_type": "code",
   "execution_count": 3,
   "metadata": {},
   "outputs": [
    {
     "name": "stdout",
     "output_type": "stream",
     "text": [
      "18.389524275269295 arcsec\n",
      "0.08599262769878883\n"
     ]
    },
    {
     "name": "stderr",
     "output_type": "stream",
     "text": [
      "INFO:purepyindi2.transports:Connected to localhost:7624\n"
     ]
    }
   ],
   "source": [
    "import numpy as np\n",
    "import astropy.units as u\n",
    "import time\n",
    "from datetime import datetime\n",
    "today = int(datetime.today().strftime('%Y%m%d'))\n",
    "import poppy\n",
    "import skimage\n",
    "from skimage.registration import phase_cross_correlation\n",
    "import copy\n",
    "from importlib import reload\n",
    "\n",
    "import magpyx\n",
    "from magpyx.utils import ImageStream\n",
    "import purepyindi\n",
    "from purepyindi import INDIClient\n",
    "client0 = purepyindi.INDIClient('localhost', 7624)\n",
    "client0.start()\n",
    "\n",
    "import purepyindi2\n",
    "from purepyindi2 import IndiClient\n",
    "client = IndiClient()\n",
    "client.connect()\n",
    "client.get_properties()\n",
    "\n",
    "from math_module import xp, xcipy, np_array\n",
    "import utils\n",
    "import fsm_utils\n",
    "import cam_utils\n",
    "from imshows import imshow1, imshow2, imshow3\n",
    "from matplotlib.patches import Circle\n",
    "\n",
    "v_bias = np.array([[50,50,50]]).T\n",
    "\n",
    "wavelength = 633e-9\n",
    "fl = 450e-3\n",
    "fsm_pupil_diam = 7.1e-3\n",
    "as_per_lamD = (wavelength/fsm_pupil_diam*u.radian).to(u.arcsec)\n",
    "print(as_per_lamD)\n",
    "\n",
    "pxscl_lamD = 3.45e-6 / (fl * wavelength/fsm_pupil_diam)\n",
    "print(pxscl_lamD)\n"
   ]
  },
  {
   "cell_type": "code",
   "execution_count": null,
   "metadata": {},
   "outputs": [],
   "source": [
    "reload(cam_utils)\n",
    "cam = cam_utils.CAM('campupil')\n"
   ]
  },
  {
   "cell_type": "code",
   "execution_count": null,
   "metadata": {},
   "outputs": [],
   "source": [
    "npsf = 100\n",
    "cam.set_roi(500, 875, npsf, client0)"
   ]
  },
  {
   "cell_type": "code",
   "execution_count": null,
   "metadata": {},
   "outputs": [],
   "source": [
    "cam.set_exptime(0.0001, client0)"
   ]
  },
  {
   "cell_type": "code",
   "execution_count": 4,
   "metadata": {},
   "outputs": [],
   "source": [
    "fsm = ImageStream('fsm')\n",
    "fsm.write(v_bias)"
   ]
  },
  {
   "cell_type": "code",
   "execution_count": 13,
   "metadata": {},
   "outputs": [
    {
     "name": "stdout",
     "output_type": "stream",
     "text": [
      "Displacements: A = 5.31e-06 m, 4.85e-06 m, 4.85e-06 m. \n",
      "Delta Voltages: A = 53.09, B = 48.46, C = 48.46. \n",
      "Displacements: A = 5.00e-06 m, 5.27e-06 m, 4.73e-06 m. \n",
      "Delta Voltages: A = 50.00, B = 52.67, C = 47.33. \n"
     ]
    }
   ],
   "source": [
    "amp = 0.5*as_per_lamD\n",
    "v_offset = fsm_utils.get_fsm_volts(tip=amp, tilt=0*u.arcsec)\n",
    "v_offset = fsm_utils.get_fsm_volts(tip=0*u.arcsec, tilt=amp)\n"
   ]
  },
  {
   "cell_type": "code",
   "execution_count": 14,
   "metadata": {},
   "outputs": [
    {
     "name": "stdout",
     "output_type": "stream",
     "text": [
      "Modulating FSM ...\n",
      "FSM modulation stopped!\n"
     ]
    }
   ],
   "source": [
    "volts = [v_bias, v_offset]\n",
    "freq = 2\n",
    "try:\n",
    "    print('Modulating FSM ...')\n",
    "    i = 0\n",
    "    while True:\n",
    "        fsm.write(volts[i%2])\n",
    "        i += 1 \n",
    "        time.sleep(1/(2*freq))\n",
    "except KeyboardInterrupt:\n",
    "    print('FSM modulation stopped!')\n",
    "    fsm.write(0*v_bias)\n",
    "    time.sleep(2)\n",
    "    fsm.write(v_bias)\n",
    "    time.sleep(0.25)"
   ]
  },
  {
   "cell_type": "code",
   "execution_count": 43,
   "metadata": {},
   "outputs": [],
   "source": [
    "fsm.write(0*v_bias)"
   ]
  },
  {
   "cell_type": "code",
   "execution_count": null,
   "metadata": {},
   "outputs": [],
   "source": []
  },
  {
   "cell_type": "code",
   "execution_count": null,
   "metadata": {},
   "outputs": [],
   "source": []
  }
 ],
 "metadata": {
  "kernelspec": {
   "display_name": "km310gpu",
   "language": "python",
   "name": "python3"
  },
  "language_info": {
   "codemirror_mode": {
    "name": "ipython",
    "version": 3
   },
   "file_extension": ".py",
   "mimetype": "text/x-python",
   "name": "python",
   "nbconvert_exporter": "python",
   "pygments_lexer": "ipython3",
   "version": "3.10.14"
  }
 },
 "nbformat": 4,
 "nbformat_minor": 2
}
