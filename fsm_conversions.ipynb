{
 "cells": [
  {
   "cell_type": "code",
   "execution_count": 7,
   "metadata": {},
   "outputs": [
    {
     "name": "stdout",
     "output_type": "stream",
     "text": [
      "Displacements: A = 5.03e-06 m, 5.01e-06 m, 4.95e-06 m. \n",
      "Delta Voltages: A = 50.34, B = 50.12, C = 49.54. \n"
     ]
    },
    {
     "data": {
      "text/plain": [
       "(50.33588877115448, 50.12294382308847, 49.54116740575704)"
      ]
     },
     "execution_count": 7,
     "metadata": {},
     "output_type": "execute_result"
    }
   ],
   "source": [
    "import numpy as np\n",
    "import astropy.units as u\n",
    "\n",
    "L = 12*u.mm # distance between FSM piezo actuators\n",
    "B = L * np.cos(30*u.degree) # baseline distance of three piezos\n",
    "max_stroke = 10*u.um\n",
    "max_voltage = 100\n",
    "D_per_V = max_stroke/max_voltage\n",
    "\n",
    "def get_A(alpha, Z):\n",
    "    return (Z + 2./3. * B * alpha).to(u.m)\n",
    "\n",
    "def get_B(alpha, beta, Z):\n",
    "    return (0.5 * L * beta + Z - 1./3. * B * alpha).to(u.m)\n",
    "\n",
    "def get_C(alpha, beta, Z):\n",
    "    return (Z - 1./3. * B * alpha - 1./2. * L * beta).to(u.m)\n",
    "\n",
    "def get_fsm_volts(tip, tilt, dZ=5*u.um):\n",
    "    tip = tip.to_value(u.radian)\n",
    "    tilt = tilt.to_value(u.radian)\n",
    "\n",
    "    dA = get_A(tip, dZ)\n",
    "    dB = get_B(tip, tilt, dZ)\n",
    "    dC = get_C(tip, tilt, dZ)\n",
    "    print(f'Displacements: A = {dA:.2e}, {dB:.2e}, {dC:.2e}. ')\n",
    "\n",
    "    dvA = (dA/D_per_V).decompose().value\n",
    "    dvB = (dB/D_per_V).decompose().value\n",
    "    dvC = (dC/D_per_V).decompose().value\n",
    "    print(f'Delta Voltages: A = {dvA:.2f}, B = {dvB:.2f}, C = {dvC:.2f}. ')\n",
    "\n",
    "    return dvA, dvB, dvC\n",
    "\n",
    "get_fsm_volts(1*u.arcsec, 1*u.arcsec)"
   ]
  }
 ],
 "metadata": {
  "kernelspec": {
   "display_name": "base",
   "language": "python",
   "name": "python3"
  },
  "language_info": {
   "codemirror_mode": {
    "name": "ipython",
    "version": 3
   },
   "file_extension": ".py",
   "mimetype": "text/x-python",
   "name": "python",
   "nbconvert_exporter": "python",
   "pygments_lexer": "ipython3",
   "version": "3.10.12"
  }
 },
 "nbformat": 4,
 "nbformat_minor": 2
}
